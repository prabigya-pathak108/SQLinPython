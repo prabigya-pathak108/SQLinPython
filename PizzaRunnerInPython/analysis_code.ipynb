{
 "cells": [
  {
   "cell_type": "markdown",
   "metadata": {},
   "source": [
    "# Using Table and Data \n",
    "\n",
    "### Importing Libraries"
   ]
  },
  {
   "cell_type": "code",
   "execution_count": 1,
   "metadata": {},
   "outputs": [],
   "source": [
    "import sqlite3"
   ]
  },
  {
   "cell_type": "code",
   "execution_count": 2,
   "metadata": {},
   "outputs": [],
   "source": [
    "# create connection  and cursor object\n",
    "connection = sqlite3.connect(\"pizza_runner_database\")\n",
    "cursor = connection.cursor()"
   ]
  },
  {
   "cell_type": "code",
   "execution_count": 3,
   "metadata": {},
   "outputs": [
    {
     "name": "stdout",
     "output_type": "stream",
     "text": [
      "Tables: [('runners',), ('customer_orders',), ('runner_orders',), ('pizza_names',), ('pizza_recipes',), ('pizza_toppings',)]\n"
     ]
    }
   ],
   "source": [
    "# see the tables in database\n",
    "query =\"select name from sqlite_master  where type='table';\"\n",
    "cursor.execute(query)\n",
    "result = cursor.fetchall()\n",
    "print('Tables: {}'.format(result))"
   ]
  },
  {
   "cell_type": "markdown",
   "metadata": {},
   "source": [
    "### Data Cleaning and Transformation\n",
    "\n",
    "In this we will directly create view of corrected data table. Overall process is discussed in clean_data.ipynb file"
   ]
  },
  {
   "cell_type": "code",
   "execution_count": 4,
   "metadata": {},
   "outputs": [
    {
     "data": {
      "text/plain": [
       "<sqlite3.Cursor at 0x1f36a299a40>"
      ]
     },
     "execution_count": 4,
     "metadata": {},
     "output_type": "execute_result"
    }
   ],
   "source": [
    "#for customer_orders table\n",
    "cursor.execute(\"DROP View IF EXISTS c_view;\")\n",
    "query= \"\"\"\n",
    "create view c_view as \n",
    "\n",
    "select order_id, customer_id, pizza_id,\n",
    "case\n",
    "    when exclusions = 'null' or TRIM(exclusions) =\"\" then NULL\n",
    "    else exclusions\n",
    "end as exclusions,\n",
    "case\n",
    "    when extras = 'null' or TRIM(extras) =\"\" then NULL\n",
    "    else extras\n",
    "end as extras,\n",
    "order_time\n",
    "\n",
    "from customer_orders;\n",
    "\n",
    "\n",
    "\"\"\"\n",
    "cursor.execute(query)\n",
    "\n",
    "\n",
    "# for runner_orders table\n",
    "cursor.execute(\"DROP View IF EXISTS r_view;\")\n",
    "query= \"\"\"\n",
    "create view r_view as \n",
    "\n",
    "select order_id, runner_id,\n",
    "case\n",
    "    when pickup_time  = 'null'  then NULL\n",
    "    else datetime(pickup_time)\n",
    "end as pickup_time,\n",
    "CASE\n",
    "     WHEN distance = 'null' or TRIM(distance)= \"\" THEN NULL\n",
    "     WHEN distance LIKE '%km' THEN cast(REPLACE(distance, 'km', '') as real)\n",
    "     ELSE cast(distance as real) \n",
    "   END AS distance,\n",
    "CASE\n",
    "     WHEN duration = 'null' or TRIM(duration)=\"\" THEN NULL\n",
    "     WHEN duration LIKE '%mins' THEN cast(REPLACE(duration, 'mins', '') as integer)\n",
    "     WHEN duration LIKE '%minute' THEN cast(REPLACE(duration, 'minute', '') as integer)\n",
    "     WHEN duration LIKE '%minutes' THEN cast(REPLACE(duration, 'minutes', '') as integer)\n",
    "     ELSE cast(duration as integer)\n",
    "   END AS duration,\n",
    "case\n",
    "    when cancellation = 'null' or TRIM(cancellation) =\"\"then NULL\n",
    "    else cancellation\n",
    "end as cancellation\n",
    "\n",
    "from runner_orders;\n",
    "\n",
    "\n",
    "\"\"\"\n",
    "cursor.execute(query)"
   ]
  },
  {
   "cell_type": "markdown",
   "metadata": {},
   "source": [
    "### Question and Answer"
   ]
  },
  {
   "cell_type": "markdown",
   "metadata": {},
   "source": [
    "#### Pizza Metrics"
   ]
  },
  {
   "cell_type": "markdown",
   "metadata": {},
   "source": [
    "How many pizzas were ordered?"
   ]
  },
  {
   "cell_type": "code",
   "execution_count": 5,
   "metadata": {},
   "outputs": [
    {
     "name": "stdout",
     "output_type": "stream",
     "text": [
      "(14,)\n"
     ]
    }
   ],
   "source": [
    "query= \"\"\"\n",
    "select count(pizza_id) from c_view;\n",
    "\"\"\"\n",
    "cursor.execute(query)\n",
    "result = cursor.fetchall()\n",
    "for record in result:\n",
    "    print(record)"
   ]
  },
  {
   "cell_type": "markdown",
   "metadata": {},
   "source": [
    "How many unique customer orders were made?"
   ]
  },
  {
   "cell_type": "code",
   "execution_count": 6,
   "metadata": {},
   "outputs": [
    {
     "name": "stdout",
     "output_type": "stream",
     "text": [
      "(10,)\n"
     ]
    }
   ],
   "source": [
    "query= \"\"\"\n",
    "select count(distinct order_id) from c_view;\n",
    "\n",
    "\"\"\"\n",
    "cursor.execute(query)\n",
    "result = cursor.fetchall()\n",
    "for record in result:\n",
    "    print(record)"
   ]
  },
  {
   "cell_type": "markdown",
   "metadata": {},
   "source": [
    "How many successful orders were delivered by each runner?"
   ]
  },
  {
   "cell_type": "code",
   "execution_count": 7,
   "metadata": {},
   "outputs": [
    {
     "name": "stdout",
     "output_type": "stream",
     "text": [
      "(1, 4)\n",
      "(2, 3)\n",
      "(3, 1)\n"
     ]
    }
   ],
   "source": [
    "query= \"\"\"\n",
    "select runner_id ,count(*)\n",
    "from r_view\n",
    "where  cancellation is null\n",
    "group by runner_id\n",
    ";\n",
    "\"\"\"\n",
    "cursor.execute(query)\n",
    "result = cursor.fetchall()\n",
    "for record in result:\n",
    "    print(record)"
   ]
  },
  {
   "cell_type": "markdown",
   "metadata": {},
   "source": [
    "How many of each type of pizza was delivered?"
   ]
  },
  {
   "cell_type": "code",
   "execution_count": 8,
   "metadata": {},
   "outputs": [
    {
     "name": "stdout",
     "output_type": "stream",
     "text": [
      "(1, 9)\n",
      "(2, 3)\n"
     ]
    }
   ],
   "source": [
    "query= \"\"\"\n",
    "select c.pizza_id, count(*)\n",
    "from r_view r inner join c_view c\n",
    "on c.order_id = r.order_id\n",
    "where  cancellation is null\n",
    "group by c.pizza_id\n",
    "\"\"\"\n",
    "cursor.execute(query)\n",
    "result = cursor.fetchall()\n",
    "for record in result:\n",
    "    print(record)"
   ]
  },
  {
   "cell_type": "markdown",
   "metadata": {},
   "source": [
    "How many Vegetarian and Meatlovers were ordered by each customer?"
   ]
  },
  {
   "cell_type": "code",
   "execution_count": 9,
   "metadata": {},
   "outputs": [
    {
     "name": "stdout",
     "output_type": "stream",
     "text": [
      "(101, 'Meatlovers', 2)\n",
      "(101, 'Vegetarian', 1)\n",
      "(102, 'Meatlovers', 2)\n",
      "(102, 'Vegetarian', 1)\n",
      "(103, 'Meatlovers', 3)\n",
      "(103, 'Vegetarian', 1)\n",
      "(104, 'Meatlovers', 3)\n",
      "(105, 'Vegetarian', 1)\n"
     ]
    }
   ],
   "source": [
    "query= \"\"\"\n",
    "select c.customer_id, p.pizza_name,count(*)\n",
    "from c_view c inner join pizza_names p \n",
    "on c.pizza_id = p.pizza_id\n",
    "group by c.customer_id, p.pizza_name\n",
    "\"\"\"\n",
    "cursor.execute(query)\n",
    "result = cursor.fetchall()\n",
    "for record in result:\n",
    "    print(record)"
   ]
  },
  {
   "cell_type": "markdown",
   "metadata": {},
   "source": [
    "What was the maximum number of pizzas delivered in a single order?"
   ]
  },
  {
   "cell_type": "code",
   "execution_count": 10,
   "metadata": {},
   "outputs": [
    {
     "name": "stdout",
     "output_type": "stream",
     "text": [
      "(3,)\n"
     ]
    }
   ],
   "source": [
    "query= \"\"\"\n",
    "select max(pizza_number)\n",
    "from (select order_id,count(pizza_id) as pizza_number\n",
    "from c_view\n",
    "group by order_id)\n",
    "\"\"\"\n",
    "cursor.execute(query)\n",
    "result = cursor.fetchall()\n",
    "for record in result:\n",
    "    print(record)"
   ]
  },
  {
   "cell_type": "markdown",
   "metadata": {},
   "source": [
    "For each customer, how many delivered pizzas had at least 1 change and how many had no changes?"
   ]
  },
  {
   "cell_type": "code",
   "execution_count": 11,
   "metadata": {},
   "outputs": [
    {
     "name": "stdout",
     "output_type": "stream",
     "text": [
      "(101, 0, 2)\n",
      "(102, 0, 3)\n",
      "(103, 3, 0)\n",
      "(104, 2, 1)\n",
      "(105, 1, 0)\n"
     ]
    }
   ],
   "source": [
    "query= \"\"\"\n",
    "select customer_id, \n",
    "sum(case\n",
    "    when exclusions is not null or extras is not null then 1\n",
    "    else 0\n",
    "end) as no_of_changed_pizzas,\n",
    "sum(case\n",
    "when exclusions is not null or extras is not null then 0\n",
    "    else 1\n",
    "end) as no_of_unchanged_pizzas\n",
    "\n",
    "from c_view c inner join r_view r\n",
    "on c.order_id= r.order_id\n",
    "where cancellation is null\n",
    "group by customer_id \n",
    "\n",
    "\"\"\"\n",
    "cursor.execute(query)\n",
    "result = cursor.fetchall()\n",
    "for record in result:\n",
    "    print(record)"
   ]
  },
  {
   "cell_type": "markdown",
   "metadata": {},
   "source": [
    "How many pizzas were delivered that had both exclusions and extras?"
   ]
  },
  {
   "cell_type": "code",
   "execution_count": 12,
   "metadata": {},
   "outputs": [
    {
     "name": "stdout",
     "output_type": "stream",
     "text": [
      "(1,)\n"
     ]
    }
   ],
   "source": [
    "query= \"\"\"\n",
    "select count(*)\n",
    "from c_view c inner join r_view r\n",
    "on c.order_id = r.order_id\n",
    "where r.cancellation is null and (c.exclusions is not null and c.extras is not null)\n",
    "\"\"\"\n",
    "cursor.execute(query)\n",
    "result = cursor.fetchall()\n",
    "for record in result:\n",
    "    print(record)"
   ]
  },
  {
   "cell_type": "markdown",
   "metadata": {},
   "source": [
    "What was the total volume of pizzas ordered for each hour of the day?"
   ]
  },
  {
   "cell_type": "code",
   "execution_count": 14,
   "metadata": {},
   "outputs": [
    {
     "name": "stdout",
     "output_type": "stream",
     "text": [
      "('11', 1)\n",
      "('13', 3)\n",
      "('18', 3)\n",
      "('19', 1)\n",
      "('21', 3)\n",
      "('23', 3)\n"
     ]
    }
   ],
   "source": [
    "query= \"\"\"\n",
    "select inner.hour, count(*) \n",
    "from(\n",
    "    select strftime('%H', order_time) as hour\n",
    "    from c_view    \n",
    ") as inner\n",
    "group by inner.hour\n",
    "\n",
    "\"\"\"\n",
    "cursor.execute(query)\n",
    "result = cursor.fetchall()\n",
    "for record in result:\n",
    "    print(record)"
   ]
  },
  {
   "cell_type": "markdown",
   "metadata": {},
   "source": [
    "What was the volume of orders for each day of the week?"
   ]
  },
  {
   "cell_type": "code",
   "execution_count": 15,
   "metadata": {},
   "outputs": [
    {
     "name": "stdout",
     "output_type": "stream",
     "text": [
      "('Friday', 1)\n",
      "('Saturday', 5)\n",
      "('Thursday', 3)\n",
      "('Wednesday', 5)\n"
     ]
    }
   ],
   "source": [
    "query= \"\"\"\n",
    "select inner.day_of_week_name, count(*) \n",
    "from(\n",
    "    select\n",
    "    strftime('%w', order_time) AS day_of_week_numeric, \n",
    "    CASE strftime('%w', order_time)\n",
    "        WHEN '0' THEN 'Sunday'\n",
    "        WHEN '1' THEN 'Monday'\n",
    "        WHEN '2' THEN 'Tuesday'\n",
    "        WHEN '3' THEN 'Wednesday'\n",
    "        WHEN '4' THEN 'Thursday'\n",
    "        WHEN '5' THEN 'Friday'\n",
    "        WHEN '6' THEN 'Saturday'\n",
    "        ELSE 'Unknown'\n",
    "    END AS day_of_week_name\n",
    "    from c_view   \n",
    "    order by day_of_week_numeric asc\n",
    ") as inner\n",
    "group by inner.day_of_week_name\n",
    "\"\"\"\n",
    "cursor.execute(query)\n",
    "result = cursor.fetchall()\n",
    "for record in result:\n",
    "    print(record)"
   ]
  },
  {
   "cell_type": "markdown",
   "metadata": {},
   "source": [
    "## Runner and Customer Experience"
   ]
  },
  {
   "cell_type": "markdown",
   "metadata": {},
   "source": [
    "How many runners signed up for each 1 week period? (i.e. week starts 2021-01-01)"
   ]
  },
  {
   "cell_type": "code",
   "execution_count": 35,
   "metadata": {},
   "outputs": [
    {
     "name": "stdout",
     "output_type": "stream",
     "text": [
      "(0, 2)\n",
      "(1, 1)\n",
      "(2, 1)\n"
     ]
    }
   ],
   "source": [
    "query= \"\"\"\n",
    "select \n",
    "cast ((julianday(registration_date) - julianday(\"2021-01-01\"))/7 as integer) as week_of_registraion,count(runner_id) as number_of_registration\n",
    "from runners\n",
    "group by week_of_registraion\n",
    "\"\"\"\n",
    "cursor.execute(query)\n",
    "result = cursor.fetchall()\n",
    "for record in result:\n",
    "    print(record)"
   ]
  },
  {
   "cell_type": "markdown",
   "metadata": {},
   "source": [
    "Is there any relationship between the number of pizzas and how long the order takes to prepare?"
   ]
  },
  {
   "cell_type": "code",
   "execution_count": 39,
   "metadata": {},
   "outputs": [
    {
     "name": "stdout",
     "output_type": "stream",
     "text": [
      "(1, 12.356)\n",
      "(2, 18.375)\n",
      "(3, 29.28)\n"
     ]
    }
   ],
   "source": [
    "query= \"\"\"\n",
    "with cte as(select c.order_id,count(pizza_id) as number_of_pizza, round((julianday(min(r.pickup_time))-julianday(min(c.order_time)))*24*60,2) as time_duration_in_minute\n",
    "from c_view c inner join r_view r on \n",
    "    c.order_id = r.order_id\n",
    "where r.pickup_time is not null\n",
    "group by c.order_id)\n",
    "\n",
    "select number_of_pizza, avg(time_duration_in_minute)\n",
    "from cte \n",
    "group by number_of_pizza;\n",
    "\"\"\"\n",
    "cursor.execute(query)\n",
    "result = cursor.fetchall()\n",
    "for record in result:\n",
    "    print(record)"
   ]
  },
  {
   "cell_type": "code",
   "execution_count": 41,
   "metadata": {},
   "outputs": [],
   "source": [
    "if connection:\n",
    "    connection.close()"
   ]
  }
 ],
 "metadata": {
  "kernelspec": {
   "display_name": "py310",
   "language": "python",
   "name": "python3"
  },
  "language_info": {
   "codemirror_mode": {
    "name": "ipython",
    "version": 3
   },
   "file_extension": ".py",
   "mimetype": "text/x-python",
   "name": "python",
   "nbconvert_exporter": "python",
   "pygments_lexer": "ipython3",
   "version": "3.10.13"
  }
 },
 "nbformat": 4,
 "nbformat_minor": 2
}
