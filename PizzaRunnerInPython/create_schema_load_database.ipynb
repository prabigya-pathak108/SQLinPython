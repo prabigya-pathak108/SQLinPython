{
 "cells": [
  {
   "cell_type": "markdown",
   "metadata": {},
   "source": [
    "# Create and Load Database and Tables\n",
    "\n",
    "### Importing the Libraries"
   ]
  },
  {
   "cell_type": "code",
   "execution_count": 1,
   "metadata": {},
   "outputs": [],
   "source": [
    "import sqlite3"
   ]
  },
  {
   "cell_type": "markdown",
   "metadata": {},
   "source": [
    "### Let's create a sample database schema and tables and populate the table "
   ]
  },
  {
   "cell_type": "code",
   "execution_count": 2,
   "metadata": {},
   "outputs": [],
   "source": [
    "connection = sqlite3.connect(\"pizza_runner_database\")"
   ]
  },
  {
   "cell_type": "markdown",
   "metadata": {},
   "source": [
    "#### Create a cursor\n",
    "\n",
    "We create a cursor object to interact with database"
   ]
  },
  {
   "cell_type": "code",
   "execution_count": 3,
   "metadata": {},
   "outputs": [],
   "source": [
    "cursor = connection.cursor()"
   ]
  },
  {
   "cell_type": "markdown",
   "metadata": {},
   "source": [
    "### Create Table in Database\n",
    "\n",
    "The simple ER diagram of database is:\n",
    "<br>\n",
    "<img src=\"images/erdiagram.png\" alt=\"ER Diagram\" width=\"500\">\n"
   ]
  },
  {
   "cell_type": "code",
   "execution_count": 4,
   "metadata": {},
   "outputs": [
    {
     "data": {
      "text/plain": [
       "<sqlite3.Cursor at 0x2b5f7a3a0c0>"
      ]
     },
     "execution_count": 4,
     "metadata": {},
     "output_type": "execute_result"
    }
   ],
   "source": [
    "query1=\"DROP TABLE IF EXISTS runners;\"\n",
    "query2=\"\"\"\n",
    "\n",
    "CREATE TABLE runners (\n",
    "  \"runner_id\" INTEGER,\n",
    "  \"registration_date\" DATE\n",
    ");\n",
    "\"\"\"\n",
    "\n",
    "cursor.execute(query1)\n",
    "cursor.execute(query2)\n"
   ]
  },
  {
   "cell_type": "markdown",
   "metadata": {},
   "source": [
    "### see if the table is created or not"
   ]
  },
  {
   "cell_type": "code",
   "execution_count": 5,
   "metadata": {},
   "outputs": [
    {
     "name": "stdout",
     "output_type": "stream",
     "text": [
      "Tables: [('customer_orders',), ('runner_orders',), ('pizza_names',), ('pizza_recipes',), ('pizza_toppings',), ('runners',)]\n"
     ]
    }
   ],
   "source": [
    "query =\"select name from sqlite_master  where type='table';\"\n",
    "cursor.execute(query)\n",
    "result = cursor.fetchall()\n",
    "print('Tables: {}'.format(result))"
   ]
  },
  {
   "cell_type": "markdown",
   "metadata": {},
   "source": [
    "### Lets populate the table "
   ]
  },
  {
   "cell_type": "code",
   "execution_count": 6,
   "metadata": {},
   "outputs": [
    {
     "data": {
      "text/plain": [
       "<sqlite3.Cursor at 0x2b5f7a3a0c0>"
      ]
     },
     "execution_count": 6,
     "metadata": {},
     "output_type": "execute_result"
    }
   ],
   "source": [
    "query=\"\"\"\n",
    "INSERT INTO runners\n",
    "  (\"runner_id\", \"registration_date\")\n",
    "VALUES\n",
    "  (1, '2021-01-01'),\n",
    "  (2, '2021-01-03'),\n",
    "  (3, '2021-01-08'),\n",
    "  (4, '2021-01-15');\n",
    "\"\"\"\n",
    "cursor.execute(query)"
   ]
  },
  {
   "cell_type": "markdown",
   "metadata": {},
   "source": [
    "# See the data inserted in table"
   ]
  },
  {
   "cell_type": "code",
   "execution_count": 7,
   "metadata": {},
   "outputs": [
    {
     "name": "stdout",
     "output_type": "stream",
     "text": [
      "Records: [(1, '2021-01-01'), (2, '2021-01-03'), (3, '2021-01-08'), (4, '2021-01-15')]\n"
     ]
    }
   ],
   "source": [
    "qury= \"select * from runners;\"\n",
    "cursor.execute(qury)\n",
    "result = cursor.fetchall()\n",
    "print('Records: {}'.format(result))"
   ]
  },
  {
   "cell_type": "code",
   "execution_count": 8,
   "metadata": {},
   "outputs": [
    {
     "name": "stdout",
     "output_type": "stream",
     "text": [
      "(1, '2021-01-01')\n",
      "(2, '2021-01-03')\n",
      "(3, '2021-01-08')\n",
      "(4, '2021-01-15')\n"
     ]
    }
   ],
   "source": [
    "#printing records\n",
    "for rec in result:\n",
    "    print(rec)"
   ]
  },
  {
   "cell_type": "markdown",
   "metadata": {},
   "source": [
    "# Create other table\n",
    "\n",
    "We see that everything is running good. Let's execute other code and create tables and populate them."
   ]
  },
  {
   "cell_type": "code",
   "execution_count": 9,
   "metadata": {},
   "outputs": [
    {
     "data": {
      "text/plain": [
       "<sqlite3.Cursor at 0x2b5f7a3a0c0>"
      ]
     },
     "execution_count": 9,
     "metadata": {},
     "output_type": "execute_result"
    }
   ],
   "source": [
    "cursor.execute('DROP TABLE IF EXISTS customer_orders;')\n",
    "query=\"\"\"\n",
    "CREATE TABLE customer_orders (\n",
    "  \"order_id\" INTEGER,\n",
    "  \"customer_id\" INTEGER,\n",
    "  \"pizza_id\" INTEGER,\n",
    "  \"exclusions\" VARCHAR(4),\n",
    "  \"extras\" VARCHAR(4),\n",
    "  \"order_time\" TIMESTAMP\n",
    ");\n",
    "\"\"\"\n",
    "cursor.execute(query)"
   ]
  },
  {
   "cell_type": "code",
   "execution_count": 10,
   "metadata": {},
   "outputs": [
    {
     "data": {
      "text/plain": [
       "<sqlite3.Cursor at 0x2b5f7a3a0c0>"
      ]
     },
     "execution_count": 10,
     "metadata": {},
     "output_type": "execute_result"
    }
   ],
   "source": [
    "query=\"\"\"\n",
    "INSERT INTO customer_orders\n",
    "  (\"order_id\", \"customer_id\", \"pizza_id\", \"exclusions\", \"extras\", \"order_time\")\n",
    "VALUES\n",
    "  ('1', '101', '1', '', '', '2020-01-01 18:05:02'),\n",
    "  ('2', '101', '1', '', '', '2020-01-01 19:00:52'),\n",
    "  ('3', '102', '1', '', '', '2020-01-02 23:51:23'),\n",
    "  ('3', '102', '2', '', NULL, '2020-01-02 23:51:23'),\n",
    "  ('4', '103', '1', '4', '', '2020-01-04 13:23:46'),\n",
    "  ('4', '103', '1', '4', '', '2020-01-04 13:23:46'),\n",
    "  ('4', '103', '2', '4', '', '2020-01-04 13:23:46'),\n",
    "  ('5', '104', '1', 'null', '1', '2020-01-08 21:00:29'),\n",
    "  ('6', '101', '2', 'null', 'null', '2020-01-08 21:03:13'),\n",
    "  ('7', '105', '2', 'null', '1', '2020-01-08 21:20:29'),\n",
    "  ('8', '102', '1', 'null', 'null', '2020-01-09 23:54:33'),\n",
    "  ('9', '103', '1', '4', '1, 5', '2020-01-10 11:22:59'),\n",
    "  ('10', '104', '1', 'null', 'null', '2020-01-11 18:34:49'),\n",
    "  ('10', '104', '1', '2, 6', '1, 4', '2020-01-11 18:34:49');\n",
    "\"\"\"\n",
    "cursor.execute(query)"
   ]
  },
  {
   "cell_type": "code",
   "execution_count": 11,
   "metadata": {},
   "outputs": [
    {
     "data": {
      "text/plain": [
       "<sqlite3.Cursor at 0x2b5f7a3a0c0>"
      ]
     },
     "execution_count": 11,
     "metadata": {},
     "output_type": "execute_result"
    }
   ],
   "source": [
    "cursor.execute('DROP TABLE IF EXISTS runner_orders;')\n",
    "query=\"\"\"\n",
    "CREATE TABLE runner_orders (\n",
    "  \"order_id\" INTEGER,\n",
    "  \"runner_id\" INTEGER,\n",
    "  \"pickup_time\" VARCHAR(19),\n",
    "  \"distance\" VARCHAR(7),\n",
    "  \"duration\" VARCHAR(10),\n",
    "  \"cancellation\" VARCHAR(23)\n",
    ");\n",
    "\"\"\"\n",
    "cursor.execute(query)"
   ]
  },
  {
   "cell_type": "code",
   "execution_count": 12,
   "metadata": {},
   "outputs": [
    {
     "data": {
      "text/plain": [
       "<sqlite3.Cursor at 0x2b5f7a3a0c0>"
      ]
     },
     "execution_count": 12,
     "metadata": {},
     "output_type": "execute_result"
    }
   ],
   "source": [
    "query=\"\"\"\n",
    "INSERT INTO runner_orders\n",
    "  (\"order_id\", \"runner_id\", \"pickup_time\", \"distance\", \"duration\", \"cancellation\")\n",
    "VALUES\n",
    "  ('1', '1', '2020-01-01 18:15:34', '20km', '32 minutes', ''),\n",
    "  ('2', '1', '2020-01-01 19:10:54', '20km', '27 minutes', ''),\n",
    "  ('3', '1', '2020-01-03 00:12:37', '13.4km', '20 mins', NULL),\n",
    "  ('4', '2', '2020-01-04 13:53:03', '23.4', '40', NULL),\n",
    "  ('5', '3', '2020-01-08 21:10:57', '10', '15', NULL),\n",
    "  ('6', '3', 'null', 'null', 'null', 'Restaurant Cancellation'),\n",
    "  ('7', '2', '2020-01-08 21:30:45', '25km', '25mins', 'null'),\n",
    "  ('8', '2', '2020-01-10 00:15:02', '23.4 km', '15 minute', 'null'),\n",
    "  ('9', '2', 'null', 'null', 'null', 'Customer Cancellation'),\n",
    "  ('10', '1', '2020-01-11 18:50:20', '10km', '10minutes', 'null');\n",
    "\"\"\"\n",
    "cursor.execute(query)"
   ]
  },
  {
   "cell_type": "code",
   "execution_count": 13,
   "metadata": {},
   "outputs": [
    {
     "data": {
      "text/plain": [
       "<sqlite3.Cursor at 0x2b5f7a3a0c0>"
      ]
     },
     "execution_count": 13,
     "metadata": {},
     "output_type": "execute_result"
    }
   ],
   "source": [
    "cursor.execute('DROP TABLE IF EXISTS pizza_names;')\n",
    "query=\"\"\"\n",
    "CREATE TABLE pizza_names (\n",
    "  \"pizza_id\" INTEGER,\n",
    "  \"pizza_name\" TEXT\n",
    ");\n",
    "\"\"\"\n",
    "cursor.execute(query)"
   ]
  },
  {
   "cell_type": "code",
   "execution_count": 14,
   "metadata": {},
   "outputs": [
    {
     "data": {
      "text/plain": [
       "<sqlite3.Cursor at 0x2b5f7a3a0c0>"
      ]
     },
     "execution_count": 14,
     "metadata": {},
     "output_type": "execute_result"
    }
   ],
   "source": [
    "query=\"\"\"\n",
    "INSERT INTO pizza_names\n",
    "  (\"pizza_id\", \"pizza_name\")\n",
    "VALUES\n",
    "  (1, 'Meatlovers'),\n",
    "  (2, 'Vegetarian');\n",
    "\"\"\"\n",
    "cursor.execute(query)"
   ]
  },
  {
   "cell_type": "code",
   "execution_count": 15,
   "metadata": {},
   "outputs": [
    {
     "data": {
      "text/plain": [
       "<sqlite3.Cursor at 0x2b5f7a3a0c0>"
      ]
     },
     "execution_count": 15,
     "metadata": {},
     "output_type": "execute_result"
    }
   ],
   "source": [
    "cursor.execute('DROP TABLE IF EXISTS pizza_recipes;')\n",
    "query=\"\"\"\n",
    "CREATE TABLE pizza_recipes (\n",
    "  \"pizza_id\" INTEGER,\n",
    "  \"toppings\" TEXT\n",
    ");\n",
    "\"\"\"\n",
    "cursor.execute(query)"
   ]
  },
  {
   "cell_type": "code",
   "execution_count": 16,
   "metadata": {},
   "outputs": [
    {
     "data": {
      "text/plain": [
       "<sqlite3.Cursor at 0x2b5f7a3a0c0>"
      ]
     },
     "execution_count": 16,
     "metadata": {},
     "output_type": "execute_result"
    }
   ],
   "source": [
    "query=\"\"\"\n",
    "INSERT INTO pizza_recipes\n",
    "  (\"pizza_id\", \"toppings\")\n",
    "VALUES\n",
    "  (1, '1, 2, 3, 4, 5, 6, 8, 10'),\n",
    "  (2, '4, 6, 7, 9, 11, 12');\n",
    "\"\"\"\n",
    "cursor.execute(query)"
   ]
  },
  {
   "cell_type": "code",
   "execution_count": 17,
   "metadata": {},
   "outputs": [
    {
     "data": {
      "text/plain": [
       "<sqlite3.Cursor at 0x2b5f7a3a0c0>"
      ]
     },
     "execution_count": 17,
     "metadata": {},
     "output_type": "execute_result"
    }
   ],
   "source": [
    "cursor.execute('DROP TABLE IF EXISTS pizza_toppings;')\n",
    "query=\"\"\"\n",
    "CREATE TABLE pizza_toppings (\n",
    "  \"topping_id\" INTEGER,\n",
    "  \"topping_name\" TEXT\n",
    ");\n",
    "\"\"\"\n",
    "cursor.execute(query)"
   ]
  },
  {
   "cell_type": "code",
   "execution_count": 18,
   "metadata": {},
   "outputs": [
    {
     "data": {
      "text/plain": [
       "<sqlite3.Cursor at 0x2b5f7a3a0c0>"
      ]
     },
     "execution_count": 18,
     "metadata": {},
     "output_type": "execute_result"
    }
   ],
   "source": [
    "query=\"\"\"\n",
    "INSERT INTO pizza_toppings\n",
    "  (\"topping_id\", \"topping_name\")\n",
    "VALUES\n",
    "  (1, 'Bacon'),\n",
    "  (2, 'BBQ Sauce'),\n",
    "  (3, 'Beef'),\n",
    "  (4, 'Cheese'),\n",
    "  (5, 'Chicken'),\n",
    "  (6, 'Mushrooms'),\n",
    "  (7, 'Onions'),\n",
    "  (8, 'Pepperoni'),\n",
    "  (9, 'Peppers'),\n",
    "  (10, 'Salami'),\n",
    "  (11, 'Tomatoes'),\n",
    "  (12, 'Tomato Sauce');\n",
    "\"\"\"\n",
    "cursor.execute(query)"
   ]
  },
  {
   "cell_type": "markdown",
   "metadata": {},
   "source": [
    "## Commit all changes"
   ]
  },
  {
   "cell_type": "code",
   "execution_count": 19,
   "metadata": {},
   "outputs": [],
   "source": [
    "connection.commit()"
   ]
  },
  {
   "cell_type": "code",
   "execution_count": 20,
   "metadata": {},
   "outputs": [
    {
     "name": "stdout",
     "output_type": "stream",
     "text": [
      "Tables: [('runners',), ('customer_orders',), ('runner_orders',), ('pizza_names',), ('pizza_recipes',), ('pizza_toppings',)]\n"
     ]
    }
   ],
   "source": [
    "# see the tables in database\n",
    "query =\"select name from sqlite_master  where type='table';\"\n",
    "cursor.execute(query)\n",
    "result = cursor.fetchall()\n",
    "print('Tables: {}'.format(result))"
   ]
  },
  {
   "cell_type": "markdown",
   "metadata": {},
   "source": [
    "### Cosing the connection No matter of success or failure\n",
    "\n",
    "Run all these code  at once. I used in ipynb file for my ease."
   ]
  },
  {
   "cell_type": "code",
   "execution_count": 21,
   "metadata": {},
   "outputs": [],
   "source": [
    "# include it in finally in try-except statement.\n",
    "if connection:\n",
    "    connection.close()"
   ]
  }
 ],
 "metadata": {
  "kernelspec": {
   "display_name": "py310",
   "language": "python",
   "name": "python3"
  },
  "language_info": {
   "codemirror_mode": {
    "name": "ipython",
    "version": 3
   },
   "file_extension": ".py",
   "mimetype": "text/x-python",
   "name": "python",
   "nbconvert_exporter": "python",
   "pygments_lexer": "ipython3",
   "version": "3.10.13"
  }
 },
 "nbformat": 4,
 "nbformat_minor": 2
}
