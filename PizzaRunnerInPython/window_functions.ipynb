{
 "cells": [
  {
   "cell_type": "markdown",
   "metadata": {},
   "source": [
    "# Using Table and Data \n",
    "\n",
    "### Importing Libraries"
   ]
  },
  {
   "cell_type": "code",
   "execution_count": 1,
   "metadata": {},
   "outputs": [
    {
     "name": "stdout",
     "output_type": "stream",
     "text": [
      "Tables: [('runners',), ('customer_orders',), ('runner_orders',), ('pizza_names',), ('pizza_recipes',), ('pizza_toppings',)]\n"
     ]
    }
   ],
   "source": [
    "import sqlite3\n",
    "\n",
    "# create connection  and cursor object\n",
    "connection = sqlite3.connect(\"pizza_runner_database\")\n",
    "cursor = connection.cursor()\n",
    "\n",
    "# see the tables in database\n",
    "query =\"select name from sqlite_master  where type='table';\"\n",
    "cursor.execute(query)\n",
    "result = cursor.fetchall()\n",
    "print('Tables: {}'.format(result))"
   ]
  },
  {
   "cell_type": "markdown",
   "metadata": {},
   "source": [
    "### Data Cleaning and Transformation\n",
    "\n",
    "In this we will directly create view of corrected data table. Overall process is discussed in clean_data.ipynb file"
   ]
  },
  {
   "cell_type": "code",
   "execution_count": 2,
   "metadata": {},
   "outputs": [
    {
     "data": {
      "text/plain": [
       "<sqlite3.Cursor at 0x2134956a3c0>"
      ]
     },
     "execution_count": 2,
     "metadata": {},
     "output_type": "execute_result"
    }
   ],
   "source": [
    "#for customer_orders table\n",
    "cursor.execute(\"DROP View IF EXISTS c_view;\")\n",
    "query= \"\"\"\n",
    "create view c_view as \n",
    "\n",
    "select order_id, customer_id, pizza_id,\n",
    "case\n",
    "    when exclusions = 'null' or TRIM(exclusions) =\"\" then NULL\n",
    "    else exclusions\n",
    "end as exclusions,\n",
    "case\n",
    "    when extras = 'null' or TRIM(extras) =\"\" then NULL\n",
    "    else extras\n",
    "end as extras,\n",
    "order_time\n",
    "\n",
    "from customer_orders;\n",
    "\n",
    "\n",
    "\"\"\"\n",
    "cursor.execute(query)\n",
    "\n",
    "\n",
    "# for runner_orders table\n",
    "cursor.execute(\"DROP View IF EXISTS r_view;\")\n",
    "query= \"\"\"\n",
    "create view r_view as \n",
    "\n",
    "select order_id, runner_id,\n",
    "case\n",
    "    when pickup_time  = 'null'  then NULL\n",
    "    else datetime(pickup_time)\n",
    "end as pickup_time,\n",
    "CASE\n",
    "     WHEN distance = 'null' or TRIM(distance)= \"\" THEN NULL\n",
    "     WHEN distance LIKE '%km' THEN cast(REPLACE(distance, 'km', '') as real)\n",
    "     ELSE cast(distance as real) \n",
    "   END AS distance,\n",
    "CASE\n",
    "     WHEN duration = 'null' or TRIM(duration)=\"\" THEN NULL\n",
    "     WHEN duration LIKE '%mins' THEN cast(REPLACE(duration, 'mins', '') as integer)\n",
    "     WHEN duration LIKE '%minute' THEN cast(REPLACE(duration, 'minute', '') as integer)\n",
    "     WHEN duration LIKE '%minutes' THEN cast(REPLACE(duration, 'minutes', '') as integer)\n",
    "     ELSE cast(duration as integer)\n",
    "   END AS duration,\n",
    "case\n",
    "    when cancellation = 'null' or TRIM(cancellation) =\"\"then NULL\n",
    "    else cancellation\n",
    "end as cancellation\n",
    "\n",
    "from runner_orders;\n",
    "\n",
    "\n",
    "\"\"\"\n",
    "cursor.execute(query)"
   ]
  },
  {
   "cell_type": "markdown",
   "metadata": {},
   "source": [
    "Calculate the Running Total of Distances:\n",
    "Calculate the cumulative distance covered by runners for each order"
   ]
  },
  {
   "cell_type": "code",
   "execution_count": 6,
   "metadata": {},
   "outputs": [
    {
     "name": "stdout",
     "output_type": "stream",
     "text": [
      "(1, 1, 20.0, 20.0)\n",
      "(2, 1, 20.0, 40.0)\n",
      "(3, 1, 13.4, 53.4)\n",
      "(4, 2, 23.4, 76.8)\n",
      "(5, 3, 10.0, 86.8)\n",
      "(7, 2, 25.0, 111.8)\n",
      "(8, 2, 23.4, 135.2)\n",
      "(10, 1, 10.0, 145.2)\n"
     ]
    }
   ],
   "source": [
    "query= \"\"\"\n",
    "select order_id,\n",
    "    runner_id,\n",
    "    distance,\n",
    "    sum(distance) over(order by order_id\n",
    "    ) as cumulative_distance\n",
    "from r_view\n",
    "where distance is not null;\n",
    "\n",
    "\"\"\"\n",
    "cursor.execute(query)\n",
    "result = cursor.fetchall()\n",
    "for record in result:\n",
    "    print(record)"
   ]
  },
  {
   "cell_type": "markdown",
   "metadata": {},
   "source": [
    "Rank Orders by Distance:\n",
    "Rank the orders based on the distance covered."
   ]
  },
  {
   "cell_type": "code",
   "execution_count": 9,
   "metadata": {},
   "outputs": [
    {
     "name": "stdout",
     "output_type": "stream",
     "text": [
      "(7, 25.0, 1)\n",
      "(4, 23.4, 2)\n",
      "(8, 23.4, 2)\n",
      "(1, 20.0, 4)\n",
      "(2, 20.0, 4)\n",
      "(3, 13.4, 6)\n",
      "(5, 10.0, 7)\n",
      "(10, 10.0, 7)\n"
     ]
    }
   ],
   "source": [
    "query= \"\"\"\n",
    "select order_id,\n",
    "distance,\n",
    "rank() over(order by distance desc) as order_rank\n",
    "from r_view\n",
    "where distance is not null\n",
    "\n",
    "\"\"\"\n",
    "cursor.execute(query)\n",
    "result = cursor.fetchall()\n",
    "for record in result:\n",
    "    print(record)"
   ]
  },
  {
   "cell_type": "markdown",
   "metadata": {},
   "source": [
    "Calculate the Average Distance Per Runner:\n",
    "Calculate the average distance covered by each runner using a window function."
   ]
  },
  {
   "cell_type": "code",
   "execution_count": 13,
   "metadata": {},
   "outputs": [
    {
     "name": "stdout",
     "output_type": "stream",
     "text": [
      "(1, 15.85)\n",
      "(1, 15.85)\n",
      "(1, 15.85)\n",
      "(1, 15.85)\n",
      "(2, 23.933333333333334)\n",
      "(2, 23.933333333333334)\n",
      "(2, 23.933333333333334)\n",
      "(2, 23.933333333333334)\n",
      "(3, 10.0)\n",
      "(3, 10.0)\n"
     ]
    }
   ],
   "source": [
    "query= \"\"\"\n",
    "select runner_id,\n",
    "avg(distance) over(partition by runner_id) as avg_distance\n",
    "from r_view\n",
    "\n",
    "\"\"\"\n",
    "cursor.execute(query)\n",
    "result = cursor.fetchall()\n",
    "for record in result:\n",
    "    print(record)"
   ]
  },
  {
   "cell_type": "markdown",
   "metadata": {},
   "source": [
    "Calculate the time difference between consecutive orders"
   ]
  },
  {
   "cell_type": "code",
   "execution_count": 27,
   "metadata": {},
   "outputs": [
    {
     "name": "stdout",
     "output_type": "stream",
     "text": [
      "(1, 0)\n",
      "(2, 56.0)\n",
      "(3, 1731.0)\n",
      "(4, 2252.0)\n",
      "(5, 6217.0)\n",
      "(6, 3.0)\n",
      "(7, 17.0)\n",
      "(8, 1594.0)\n",
      "(9, 688.0)\n",
      "(10, 1872.0)\n"
     ]
    }
   ],
   "source": [
    "query= \"\"\"\n",
    "select a.order_id, \n",
    "case\n",
    "    when round((julianday(a.order_time)-julianday(a.diff_time))*24*60) is null then 0\n",
    "    else round((julianday(a.order_time)-julianday(a.diff_time))*24*60)\n",
    "end as time_diff_in_minutes\n",
    "from (\n",
    "select order_id, order_time,\n",
    "lag(order_time) over(order by order_time) as diff_time\n",
    "from c_view\n",
    "group by order_id,order_time) as a\n",
    "\n",
    "\n",
    "\"\"\"\n",
    "cursor.execute(query)\n",
    "result = cursor.fetchall()\n",
    "for record in result:\n",
    "    print(record)"
   ]
  },
  {
   "cell_type": "markdown",
   "metadata": {},
   "source": [
    "Calculate the Rolling Average Distance Over 2 Orders:\n",
    "Calculate the rolling average distance covered over the last two orders."
   ]
  },
  {
   "cell_type": "code",
   "execution_count": 33,
   "metadata": {},
   "outputs": [
    {
     "name": "stdout",
     "output_type": "stream",
     "text": [
      "(1, 20.0, 20.0)\n",
      "(2, 20.0, 20.0)\n",
      "(3, 13.4, 16.7)\n",
      "(4, 23.4, 18.4)\n",
      "(5, 10.0, 16.7)\n",
      "(6, None, 10.0)\n",
      "(7, 25.0, 25.0)\n",
      "(8, 23.4, 24.2)\n",
      "(9, None, 23.4)\n",
      "(10, 10.0, 10.0)\n"
     ]
    }
   ],
   "source": [
    "query= \"\"\"\n",
    "select order_id, distance,\n",
    "avg(distance) over(order by order_id \n",
    "                    rows between 1 preceding and current row\n",
    "                    ) as avg_distance\n",
    "from r_view\n",
    "\n",
    "\n",
    "\"\"\"\n",
    "cursor.execute(query)\n",
    "result = cursor.fetchall()\n",
    "for record in result:\n",
    "    print(record)"
   ]
  },
  {
   "cell_type": "markdown",
   "metadata": {},
   "source": [
    "Determine the Fastest Pickup Times for Each Customer"
   ]
  },
  {
   "cell_type": "code",
   "execution_count": 42,
   "metadata": {},
   "outputs": [
    {
     "name": "stdout",
     "output_type": "stream",
     "text": [
      "(101, '2020-01-01 18:15:34')\n",
      "(102, '2020-01-03 00:12:37')\n",
      "(103, '2020-01-04 13:53:03')\n",
      "(104, '2020-01-08 21:10:57')\n",
      "(105, '2020-01-08 21:30:45')\n"
     ]
    }
   ],
   "source": [
    "query= \"\"\"\n",
    "select c.customer_id,\n",
    "    min(r.pickup_time) over(partition by c.customer_id) as min_pickup_time\n",
    "\n",
    "from c_view c inner join r_view r on\n",
    "    c.order_id = r.order_id\n",
    "where r.pickup_time is not null\n",
    "group by c.customer_id\n",
    "\n",
    "\"\"\"\n",
    "cursor.execute(query)\n",
    "result = cursor.fetchall()\n",
    "for record in result:\n",
    "    print(record)"
   ]
  },
  {
   "cell_type": "code",
   "execution_count": 40,
   "metadata": {},
   "outputs": [
    {
     "name": "stdout",
     "output_type": "stream",
     "text": [
      "(101, 1, '2020-01-01 18:15:34', 1)\n",
      "(102, 3, '2020-01-03 00:12:37', 1)\n",
      "(103, 4, '2020-01-04 13:53:03', 1)\n",
      "(104, 5, '2020-01-08 21:10:57', 1)\n",
      "(105, 7, '2020-01-08 21:30:45', 1)\n"
     ]
    }
   ],
   "source": [
    "# lets solve this using row_number function\n",
    "\n",
    "query= \"\"\"\n",
    "select a.*\n",
    "from (select c.customer_id,c.order_id,\n",
    "    r.pickup_time,\n",
    "    row_number() over(partition by c.customer_id order by r.pickup_time) as row_num\n",
    "\n",
    "from c_view c inner join r_view r on\n",
    "    c.order_id = r.order_id\n",
    "where r.pickup_time is not null) as a\n",
    "where a.row_num =1\n",
    "\n",
    "\"\"\"\n",
    "cursor.execute(query)\n",
    "result = cursor.fetchall()\n",
    "for record in result:\n",
    "    print(record)"
   ]
  },
  {
   "cell_type": "code",
   "execution_count": 43,
   "metadata": {},
   "outputs": [],
   "source": [
    "if connection:\n",
    "    connection.close()"
   ]
  }
 ],
 "metadata": {
  "kernelspec": {
   "display_name": "py310",
   "language": "python",
   "name": "python3"
  },
  "language_info": {
   "codemirror_mode": {
    "name": "ipython",
    "version": 3
   },
   "file_extension": ".py",
   "mimetype": "text/x-python",
   "name": "python",
   "nbconvert_exporter": "python",
   "pygments_lexer": "ipython3",
   "version": "3.10.13"
  }
 },
 "nbformat": 4,
 "nbformat_minor": 2
}
