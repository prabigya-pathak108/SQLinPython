{
 "cells": [
  {
   "cell_type": "markdown",
   "metadata": {},
   "source": [
    "### Data Cleaning and Transformation"
   ]
  },
  {
   "cell_type": "markdown",
   "metadata": {},
   "source": []
  },
  {
   "cell_type": "code",
   "execution_count": 27,
   "metadata": {},
   "outputs": [
    {
     "name": "stdout",
     "output_type": "stream",
     "text": [
      "Tables: [('runners',), ('customer_orders',), ('runner_orders',), ('pizza_names',), ('pizza_recipes',), ('pizza_toppings',)]\n"
     ]
    }
   ],
   "source": [
    "# Importing Libraries\n",
    "import sqlite3\n",
    "\n",
    "# create connection  and cursor object\n",
    "connection = sqlite3.connect(\"pizza_runner_database\")\n",
    "cursor = connection.cursor()\n",
    "\n",
    "# see the tables in database\n",
    "query =\"select name from sqlite_master  where type='table';\"\n",
    "cursor.execute(query)\n",
    "result = cursor.fetchall()\n",
    "print('Tables: {}'.format(result))"
   ]
  },
  {
   "cell_type": "markdown",
   "metadata": {},
   "source": [
    "The simple ER diagram of database is:\n",
    "<br>\n",
    "<img src=\"images/erdiagram.png\" alt=\"ER Diagram\" width=\"500\">"
   ]
  },
  {
   "cell_type": "markdown",
   "metadata": {},
   "source": [
    "#### for customer_orders table\n",
    "\n",
    "\n",
    "First let's visualize the data of customer_orders table and match it as per requirement of ER diagram mentioned above"
   ]
  },
  {
   "cell_type": "code",
   "execution_count": 28,
   "metadata": {},
   "outputs": [
    {
     "name": "stdout",
     "output_type": "stream",
     "text": [
      "(1, 101, 1, '', '', '2020-01-01 18:05:02')\n",
      "(2, 101, 1, '', '', '2020-01-01 19:00:52')\n",
      "(3, 102, 1, '', '', '2020-01-02 23:51:23')\n",
      "(3, 102, 2, '', None, '2020-01-02 23:51:23')\n",
      "(4, 103, 1, '4', '', '2020-01-04 13:23:46')\n",
      "(4, 103, 1, '4', '', '2020-01-04 13:23:46')\n",
      "(4, 103, 2, '4', '', '2020-01-04 13:23:46')\n",
      "(5, 104, 1, 'null', '1', '2020-01-08 21:00:29')\n",
      "(6, 101, 2, 'null', 'null', '2020-01-08 21:03:13')\n",
      "(7, 105, 2, 'null', '1', '2020-01-08 21:20:29')\n",
      "(8, 102, 1, 'null', 'null', '2020-01-09 23:54:33')\n",
      "(9, 103, 1, '4', '1, 5', '2020-01-10 11:22:59')\n",
      "(10, 104, 1, 'null', 'null', '2020-01-11 18:34:49')\n",
      "(10, 104, 1, '2, 6', '1, 4', '2020-01-11 18:34:49')\n"
     ]
    }
   ],
   "source": [
    "query= \"\"\"\n",
    "select * from customer_orders;\n",
    "\"\"\"\n",
    "cursor.execute(query)\n",
    "result = cursor.fetchall()\n",
    "for record in result:\n",
    "    print(record)"
   ]
  },
  {
   "cell_type": "markdown",
   "metadata": {},
   "source": [
    "In exclusions and extras columns, we see that not every cell has a value. None value represent actual null value whereas there is 'null' string used also. Let's make them of one type so they dont cause any problem. Lets create a view fro updated data. We can create another table if required also."
   ]
  },
  {
   "cell_type": "code",
   "execution_count": 29,
   "metadata": {},
   "outputs": [
    {
     "data": {
      "text/plain": [
       "<sqlite3.Cursor at 0x26369359fc0>"
      ]
     },
     "execution_count": 29,
     "metadata": {},
     "output_type": "execute_result"
    }
   ],
   "source": [
    "#for customer_orders table\n",
    "cursor.execute(\"DROP View IF EXISTS c_view;\")\n",
    "query= \"\"\"\n",
    "create view c_view as \n",
    "\n",
    "select order_id, customer_id, pizza_id,\n",
    "case\n",
    "    when exclusions = 'null' or TRIM(exclusions) =\"\" then NULL\n",
    "    else exclusions\n",
    "end as exclusions,\n",
    "case\n",
    "    when extras = 'null' or TRIM(extras) =\"\" then NULL\n",
    "    else extras\n",
    "end as extras,\n",
    "order_time\n",
    "\n",
    "from customer_orders;\n",
    "\n",
    "\n",
    "\"\"\"\n",
    "cursor.execute(query)\n"
   ]
  },
  {
   "cell_type": "code",
   "execution_count": 30,
   "metadata": {},
   "outputs": [
    {
     "name": "stdout",
     "output_type": "stream",
     "text": [
      "(1, 101, 1, '', '', '2020-01-01 18:05:02')\n",
      "(2, 101, 1, '', '', '2020-01-01 19:00:52')\n",
      "(3, 102, 1, '', '', '2020-01-02 23:51:23')\n",
      "(3, 102, 2, '', '', '2020-01-02 23:51:23')\n",
      "(4, 103, 1, '4', '', '2020-01-04 13:23:46')\n",
      "(4, 103, 1, '4', '', '2020-01-04 13:23:46')\n",
      "(4, 103, 2, '4', '', '2020-01-04 13:23:46')\n",
      "(5, 104, 1, '', '1', '2020-01-08 21:00:29')\n",
      "(6, 101, 2, '', '', '2020-01-08 21:03:13')\n",
      "(7, 105, 2, '', '1', '2020-01-08 21:20:29')\n",
      "(8, 102, 1, '', '', '2020-01-09 23:54:33')\n",
      "(9, 103, 1, '4', '1, 5', '2020-01-10 11:22:59')\n",
      "(10, 104, 1, '', '', '2020-01-11 18:34:49')\n",
      "(10, 104, 1, '2, 6', '1, 4', '2020-01-11 18:34:49')\n"
     ]
    }
   ],
   "source": [
    "query= \"\"\"\n",
    "select * from customer_view;\n",
    "\"\"\"\n",
    "cursor.execute(query)\n",
    "result = cursor.fetchall()\n",
    "for record in result:\n",
    "    print(record)"
   ]
  },
  {
   "cell_type": "markdown",
   "metadata": {},
   "source": [
    "#### for runners table\n",
    "\n",
    "\n",
    "First let's visualize the data of runners table and match it as per requirement of ER diagram mentioned above"
   ]
  },
  {
   "cell_type": "code",
   "execution_count": 31,
   "metadata": {},
   "outputs": [
    {
     "name": "stdout",
     "output_type": "stream",
     "text": [
      "(1, '2021-01-01')\n",
      "(2, '2021-01-03')\n",
      "(3, '2021-01-08')\n",
      "(4, '2021-01-15')\n"
     ]
    }
   ],
   "source": [
    "query= \"\"\"\n",
    "select * from runners;\n",
    "\"\"\"\n",
    "cursor.execute(query)\n",
    "result = cursor.fetchall()\n",
    "for record in result:\n",
    "    print(record)"
   ]
  },
  {
   "cell_type": "markdown",
   "metadata": {},
   "source": [
    "Everything is fine in this table.\n",
    "\n",
    "#### for runner_orders table\n",
    "\n",
    "\n",
    "First let's visualize the data of runner_orders table and match it as per requirement of ER diagram mentioned above"
   ]
  },
  {
   "cell_type": "code",
   "execution_count": 32,
   "metadata": {},
   "outputs": [
    {
     "name": "stdout",
     "output_type": "stream",
     "text": [
      "(1, 1, '2020-01-01 18:15:34', '20km', '32 minutes', '')\n",
      "(2, 1, '2020-01-01 19:10:54', '20km', '27 minutes', '')\n",
      "(3, 1, '2020-01-03 00:12:37', '13.4km', '20 mins', None)\n",
      "(4, 2, '2020-01-04 13:53:03', '23.4', '40', None)\n",
      "(5, 3, '2020-01-08 21:10:57', '10', '15', None)\n",
      "(6, 3, 'null', 'null', 'null', 'Restaurant Cancellation')\n",
      "(7, 2, '2020-01-08 21:30:45', '25km', '25mins', 'null')\n",
      "(8, 2, '2020-01-10 00:15:02', '23.4 km', '15 minute', 'null')\n",
      "(9, 2, 'null', 'null', 'null', 'Customer Cancellation')\n",
      "(10, 1, '2020-01-11 18:50:20', '10km', '10minutes', 'null')\n"
     ]
    }
   ],
   "source": [
    "query= \"\"\"\n",
    "select * from runner_orders;\n",
    "\"\"\"\n",
    "cursor.execute(query)\n",
    "result = cursor.fetchall()\n",
    "for record in result:\n",
    "    print(record)"
   ]
  },
  {
   "cell_type": "markdown",
   "metadata": {},
   "source": [
    "We can see that \"null\" as string and null used in cancellation column, we need to address this. The data type of columns pickup_time, distcance an duration should be timestamp, numeric and integer. in distance column there is km so we need to address that, and in  duration field we have alphabets we need to remove them.\n",
    "\n",
    "\n",
    "Removing these let's create another view named \"ro_view\""
   ]
  },
  {
   "cell_type": "code",
   "execution_count": 33,
   "metadata": {},
   "outputs": [
    {
     "data": {
      "text/plain": [
       "<sqlite3.Cursor at 0x26369359fc0>"
      ]
     },
     "execution_count": 33,
     "metadata": {},
     "output_type": "execute_result"
    }
   ],
   "source": [
    "cursor.execute(\"DROP View IF EXISTS r_view;\")\n",
    "query= \"\"\"\n",
    "create view r_view as \n",
    "\n",
    "select order_id, runner_id,\n",
    "case\n",
    "    when pickup_time  = 'null'  then NULL\n",
    "    else datetime(pickup_time)\n",
    "end as pickup_time,\n",
    "CASE\n",
    "     WHEN distance = 'null' or TRIM(distance)= \"\" THEN NULL\n",
    "     WHEN distance LIKE '%km' THEN cast(REPLACE(distance, 'km', '') as real)\n",
    "     ELSE cast(distance as real) \n",
    "   END AS distance,\n",
    "CASE\n",
    "     WHEN duration = 'null' or TRIM(duration)=\"\" THEN NULL\n",
    "     WHEN duration LIKE '%mins' THEN cast(REPLACE(duration, 'mins', '') as integer)\n",
    "     WHEN duration LIKE '%minute' THEN cast(REPLACE(duration, 'minute', '') as integer)\n",
    "     WHEN duration LIKE '%minutes' THEN cast(REPLACE(duration, 'minutes', '') as integer)\n",
    "     ELSE cast(duration as integer)\n",
    "   END AS duration,\n",
    "case\n",
    "    when cancellation = 'null' or TRIM(cancellation) =\"\"then NULL\n",
    "    else cancellation\n",
    "end as cancellation\n",
    "\n",
    "from runner_orders;\n",
    "\n",
    "\n",
    "\"\"\"\n",
    "cursor.execute(query)"
   ]
  },
  {
   "cell_type": "code",
   "execution_count": 34,
   "metadata": {},
   "outputs": [
    {
     "name": "stdout",
     "output_type": "stream",
     "text": [
      "(1, 1, '2020-01-01 18:15:34', 20.0, 32, '')\n",
      "(2, 1, '2020-01-01 19:10:54', 20.0, 27, '')\n",
      "(3, 1, '2020-01-03 00:12:37', 13.4, 20, '')\n",
      "(4, 2, '2020-01-04 13:53:03', 23.4, 40, '')\n",
      "(5, 3, '2020-01-08 21:10:57', 10.0, 15, '')\n",
      "(6, 3, '', None, None, 'Restaurant Cancellation')\n",
      "(7, 2, '2020-01-08 21:30:45', 25.0, 25, '')\n",
      "(8, 2, '2020-01-10 00:15:02', 23.4, 15, '')\n",
      "(9, 2, '', None, None, 'Customer Cancellation')\n",
      "(10, 1, '2020-01-11 18:50:20', 10.0, 10, '')\n"
     ]
    }
   ],
   "source": [
    "query= \"\"\"\n",
    "select * from ro_view;\n",
    "\"\"\"\n",
    "cursor.execute(query)\n",
    "result = cursor.fetchall()\n",
    "for record in result:\n",
    "    print(record)"
   ]
  },
  {
   "cell_type": "markdown",
   "metadata": {},
   "source": [
    "Other tables are fine and we are okay with cleaning and data transformation."
   ]
  },
  {
   "cell_type": "code",
   "execution_count": 35,
   "metadata": {},
   "outputs": [],
   "source": [
    "if connection:\n",
    "    connection.close()"
   ]
  }
 ],
 "metadata": {
  "kernelspec": {
   "display_name": "py310",
   "language": "python",
   "name": "python3"
  },
  "language_info": {
   "codemirror_mode": {
    "name": "ipython",
    "version": 3
   },
   "file_extension": ".py",
   "mimetype": "text/x-python",
   "name": "python",
   "nbconvert_exporter": "python",
   "pygments_lexer": "ipython3",
   "version": "3.10.13"
  }
 },
 "nbformat": 4,
 "nbformat_minor": 2
}
