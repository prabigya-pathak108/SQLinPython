{
 "cells": [
  {
   "cell_type": "markdown",
   "metadata": {},
   "source": [
    "# Using Table and Data \n",
    "\n",
    "### Importing Libraries"
   ]
  },
  {
   "cell_type": "code",
   "execution_count": 1,
   "metadata": {},
   "outputs": [],
   "source": [
    "import sqlite3\n"
   ]
  },
  {
   "cell_type": "code",
   "execution_count": 2,
   "metadata": {},
   "outputs": [],
   "source": [
    "# create connection  and cursor object\n",
    "connection = sqlite3.connect(\"dannys_dinner_database\")\n",
    "cursor = connection.cursor()"
   ]
  },
  {
   "cell_type": "code",
   "execution_count": 3,
   "metadata": {},
   "outputs": [
    {
     "name": "stdout",
     "output_type": "stream",
     "text": [
      "Tables: [('sales',), ('menu',), ('members',)]\n"
     ]
    }
   ],
   "source": [
    "# see the tables in database\n",
    "query =\"select name from sqlite_master  where type='table';\"\n",
    "cursor.execute(query)\n",
    "result = cursor.fetchall()\n",
    "print('Tables: {}'.format(result))"
   ]
  },
  {
   "cell_type": "markdown",
   "metadata": {},
   "source": [
    "### Question and Answer"
   ]
  },
  {
   "cell_type": "markdown",
   "metadata": {},
   "source": [
    "What is the total amount each customer spent at the restaurant?"
   ]
  },
  {
   "cell_type": "code",
   "execution_count": 4,
   "metadata": {},
   "outputs": [
    {
     "name": "stdout",
     "output_type": "stream",
     "text": [
      "('A', 76)\n",
      "('B', 74)\n",
      "('C', 36)\n"
     ]
    }
   ],
   "source": [
    "query= \"\"\"\n",
    "select s.customer_id,sum(price) \n",
    "from sales s inner join menu m \n",
    "on s.product_id = m.product_id\n",
    "group by s.customer_id \n",
    "\"\"\"\n",
    "cursor.execute(query)\n",
    "result = cursor.fetchall()\n",
    "for record in result:\n",
    "    print(record)"
   ]
  },
  {
   "cell_type": "markdown",
   "metadata": {},
   "source": [
    "How many days has each customer visited the restaurant?"
   ]
  },
  {
   "cell_type": "code",
   "execution_count": 13,
   "metadata": {},
   "outputs": [
    {
     "name": "stdout",
     "output_type": "stream",
     "text": [
      "('A', 4)\n",
      "('B', 6)\n",
      "('C', 2)\n"
     ]
    }
   ],
   "source": [
    "\n",
    "\n",
    "query= \"\"\"\n",
    "select customer_id,count(distinct(order_date))\n",
    "from sales\n",
    "group by customer_id;\n",
    "\n",
    "\"\"\"\n",
    "cursor.execute(query)\n",
    "result = cursor.fetchall()\n",
    "for record in result:\n",
    "    print(record)"
   ]
  },
  {
   "cell_type": "markdown",
   "metadata": {},
   "source": [
    "What was the first item from the menu purchased by each customer?"
   ]
  },
  {
   "cell_type": "code",
   "execution_count": 21,
   "metadata": {},
   "outputs": [
    {
     "name": "stdout",
     "output_type": "stream",
     "text": [
      "('A', 'sushi', '2021-01-01')\n",
      "('B', 'curry', '2021-01-01')\n",
      "('C', 'ramen', '2021-01-01')\n"
     ]
    }
   ],
   "source": [
    "\n",
    "\n",
    "query= \"\"\"\n",
    "select customer_id,product_name,s.order_date\n",
    "from sales s inner join menu m\n",
    "on s.product_id = m.product_id\n",
    "group by s.customer_id\n",
    "having s.order_date = min(s.order_date)\n",
    "\n",
    "\n",
    "\n",
    "\"\"\"\n",
    "cursor.execute(query)\n",
    "result = cursor.fetchall()\n",
    "for record in result:\n",
    "    print(record)"
   ]
  },
  {
   "cell_type": "markdown",
   "metadata": {},
   "source": [
    "What is the most purchased item on the menu and how many times was it purchased by all customers?"
   ]
  },
  {
   "cell_type": "code",
   "execution_count": 23,
   "metadata": {},
   "outputs": [
    {
     "name": "stdout",
     "output_type": "stream",
     "text": [
      "('ramen', 8)\n"
     ]
    }
   ],
   "source": [
    "\n",
    "\n",
    "query= \"\"\"\n",
    "select m.product_name, count(*) as item_count\n",
    "from sales s inner join menu m \n",
    "    on s.product_id = m.product_id \n",
    "group by s.product_id\n",
    "order by item_count desc\n",
    "limit 1;\n",
    "\n",
    "\n",
    "\"\"\"\n",
    "cursor.execute(query)\n",
    "result = cursor.fetchall()\n",
    "for record in result:\n",
    "    print(record)"
   ]
  },
  {
   "cell_type": "markdown",
   "metadata": {},
   "source": [
    "Which item was the most popular for each customer?"
   ]
  },
  {
   "cell_type": "code",
   "execution_count": 36,
   "metadata": {},
   "outputs": [
    {
     "name": "stdout",
     "output_type": "stream",
     "text": [
      "('A', 'ramen', 3)\n",
      "('B', 'sushi', 2)\n",
      "('B', 'curry', 2)\n",
      "('B', 'ramen', 2)\n",
      "('C', 'ramen', 3)\n"
     ]
    }
   ],
   "source": [
    "\n",
    "\n",
    "query= \"\"\"\n",
    "select s.customer_id,m.product_name, count(*) as purchase_count\n",
    "from sales s inner join menu m \n",
    "    on s.product_id = m.product_id \n",
    "group by s.customer_id,s.product_id\n",
    "having purchase_count= (\n",
    "select max(purchase_count)\n",
    "from (\n",
    "select s.customer_id,m.product_name, count(*) as purchase_count\n",
    "from sales s inner join menu m \n",
    "    on s.product_id = m.product_id \n",
    "group by s.customer_id,s.product_id\n",
    ") as subquery\n",
    "where subquery.customer_id = s.customer_id\n",
    ")\n",
    "\n",
    "\"\"\"\n",
    "cursor.execute(query)\n",
    "result = cursor.fetchall()\n",
    "for record in result:\n",
    "    print(record)"
   ]
  },
  {
   "cell_type": "markdown",
   "metadata": {},
   "source": [
    "Which item was purchased first by the customer after they became a member?"
   ]
  },
  {
   "cell_type": "code",
   "execution_count": 57,
   "metadata": {},
   "outputs": [
    {
     "name": "stdout",
     "output_type": "stream",
     "text": [
      "('A', 'ramen')\n",
      "('B', 'sushi')\n"
     ]
    }
   ],
   "source": [
    "query1=\"\"\"select s.customer_id,min(s.order_date)\n",
    "    from sales s join members me on \n",
    "    s.customer_id = me.customer_id\n",
    "    where s.order_date>me.join_date\n",
    "    group by s.customer_id\n",
    "\"\"\"\n",
    "\n",
    "query= \"\"\"\n",
    "    select s.customer_id, m.product_name\n",
    "    from sales s join menu m on\n",
    "    s.product_id= m.product_id join members me on\n",
    "    s.customer_id= me.customer_id\n",
    "    where (s.customer_id,s.order_date) in (select s.customer_id,min(s.order_date)\n",
    "    from sales s join members me on \n",
    "    s.customer_id = me.customer_id\n",
    "    where s.order_date>me.join_date\n",
    "    group by s.customer_id)\n",
    "    \n",
    "    \n",
    "\n",
    "\"\"\"\n",
    "cursor.execute(query)\n",
    "result = cursor.fetchall()\n",
    "for record in result:\n",
    "    print(record)"
   ]
  },
  {
   "cell_type": "markdown",
   "metadata": {},
   "source": [
    "Which item was purchased just before the customer became a member?"
   ]
  },
  {
   "cell_type": "code",
   "execution_count": 82,
   "metadata": {},
   "outputs": [
    {
     "name": "stdout",
     "output_type": "stream",
     "text": [
      "('A', 'sushi')\n",
      "('A', 'curry')\n",
      "('B', 'sushi')\n"
     ]
    }
   ],
   "source": [
    "\n",
    "\n",
    "query= \"\"\"\n",
    "select s.customer_id, m.product_name\n",
    "    from sales s join menu m on\n",
    "    s.product_id= m.product_id join members me on\n",
    "    s.customer_id= me.customer_id\n",
    "where (s.customer_id,s.order_date) in (select s.customer_id,max(s.order_date) as orderdate\n",
    "    from sales s join members me on \n",
    "    s.customer_id = me.customer_id\n",
    "    where s.order_date<me.join_date\n",
    "    group by s.customer_id )\n",
    "\n",
    "\"\"\"\n",
    "cursor.execute(query)\n",
    "result = cursor.fetchall()\n",
    "for record in result:\n",
    "    print(record)"
   ]
  },
  {
   "cell_type": "markdown",
   "metadata": {},
   "source": [
    "What is the total items and amount spent for each member before they became a member?"
   ]
  },
  {
   "cell_type": "code",
   "execution_count": 84,
   "metadata": {},
   "outputs": [
    {
     "name": "stdout",
     "output_type": "stream",
     "text": [
      "('A', 2, 25)\n",
      "('B', 3, 40)\n"
     ]
    }
   ],
   "source": [
    "query= \"\"\"\n",
    "select s.customer_id,count(s.product_id) as total_items, sum(m.price)\n",
    "from sales s join menu m on\n",
    "    s.product_id= m.product_id join members me on\n",
    "    s.customer_id= me.customer_id\n",
    "where s.order_date<me.join_date\n",
    "group by s.customer_id \n",
    "\n",
    "\"\"\"\n",
    "cursor.execute(query)\n",
    "result = cursor.fetchall()\n",
    "for record in result:\n",
    "    print(record)"
   ]
  },
  {
   "cell_type": "markdown",
   "metadata": {},
   "source": [
    "If each $1 spent equates to 10 points and sushi has a 2x points multiplier - how many points would each customer have?"
   ]
  },
  {
   "cell_type": "code",
   "execution_count": 88,
   "metadata": {},
   "outputs": [
    {
     "name": "stdout",
     "output_type": "stream",
     "text": [
      "('A', 6, 860)\n",
      "('B', 6, 940)\n",
      "('C', 3, 360)\n"
     ]
    }
   ],
   "source": [
    "query= \"\"\"\n",
    "select s.customer_id,\n",
    "count(s.product_id) as total_items, \n",
    "sum(case when m.product_name = 'sushi' then 20 * m.price else 10*m.price end) as total_points\n",
    "from sales s join menu m on\n",
    "    s.product_id= m.product_id \n",
    "\n",
    "group by s.customer_id \n",
    "\n",
    "\"\"\"\n",
    "cursor.execute(query)\n",
    "result = cursor.fetchall()\n",
    "for record in result:\n",
    "    print(record)"
   ]
  },
  {
   "cell_type": "markdown",
   "metadata": {},
   "source": [
    "In the first week after a customer joins the program (including their join date) they earn 2x points on all items, not just sushi - how many points do customer A and B have at the end of January?"
   ]
  },
  {
   "cell_type": "code",
   "execution_count": 105,
   "metadata": {},
   "outputs": [
    {
     "name": "stdout",
     "output_type": "stream",
     "text": [
      "('A', 6, 1370)\n",
      "('B', 6, 1060)\n"
     ]
    }
   ],
   "source": [
    "query= \"\"\"\n",
    "select s.customer_id,\n",
    "count(s.product_id) as total_items, \n",
    "sum(case \n",
    "    when (julianday(s.order_date)-julianday(me.join_date)) between 0 and 7 then 20 * m.price\n",
    "    when m.product_name = 'sushi' then 20 * m.price \n",
    "    else 10*m.price \n",
    "    end)as total_points\n",
    "    \n",
    "from sales s join menu m on\n",
    "    s.product_id= m.product_id\n",
    "        join members me on s.customer_id = me.customer_id\n",
    "\n",
    "group by s.customer_id \n",
    "\n",
    "\"\"\"\n",
    "cursor.execute(query)\n",
    "result = cursor.fetchall()\n",
    "for record in result:\n",
    "    print(record)"
   ]
  },
  {
   "cell_type": "markdown",
   "metadata": {},
   "source": [
    "The following questions are related creating basic data tables that Danny and his team can use to quickly derive insights without needing to join the underlying tables using SQL.\n",
    "\n",
    "Recreate the following table output using the available data:\n",
    "\n",
    "<br>\n",
    "<img src=\"images/table1.png\" alt=\"table 1\" width=\"500\">"
   ]
  },
  {
   "cell_type": "code",
   "execution_count": 9,
   "metadata": {},
   "outputs": [
    {
     "name": "stdout",
     "output_type": "stream",
     "text": [
      "('A', '2021-01-01', 'sushi', 10, 'N')\n",
      "('A', '2021-01-01', 'curry', 15, 'N')\n",
      "('A', '2021-01-07', 'curry', 15, 'Y')\n",
      "('A', '2021-01-10', 'ramen', 12, 'Y')\n",
      "('A', '2021-01-11', 'ramen', 12, 'Y')\n",
      "('A', '2021-01-11', 'ramen', 12, 'Y')\n",
      "('B', '2021-01-01', 'curry', 15, 'N')\n",
      "('B', '2021-01-02', 'curry', 15, 'N')\n",
      "('B', '2021-01-04', 'sushi', 10, 'N')\n",
      "('B', '2021-01-11', 'sushi', 10, 'Y')\n",
      "('B', '2021-01-16', 'ramen', 12, 'Y')\n",
      "('B', '2021-02-01', 'ramen', 12, 'Y')\n",
      "('C', '2021-01-01', 'ramen', 12, 'N')\n",
      "('C', '2021-01-01', 'ramen', 12, 'N')\n",
      "('C', '2021-01-07', 'ramen', 12, 'N')\n"
     ]
    }
   ],
   "source": [
    "query= \"\"\"\n",
    "select s.customer_id,s.order_date,m.product_name,m.price,\n",
    "case\n",
    "    when me.join_date is null then 'N'\n",
    "    when s.order_date < me.join_date then \"N\"\n",
    "    else 'Y'\n",
    "end as member\n",
    "\n",
    " from sales s full outer join menu m on\n",
    "    s.product_id= m.product_id full outer join members me on\n",
    "    s.customer_id= me.customer_id\n",
    "\n",
    "\"\"\"\n",
    "cursor.execute(query)\n",
    "result = cursor.fetchall()\n",
    "for record in result:\n",
    "    print(record)"
   ]
  },
  {
   "cell_type": "markdown",
   "metadata": {},
   "source": [
    "Danny also requires further information about the ranking of customer products, but he purposely does not need the ranking for non-member purchases so he expects null ranking values for the records when customers are not yet part of the loyalty program.\n",
    "\n",
    "<br>\n",
    "<img src=\"images/table2.png\" alt=\"table 2\" width=\"500\">"
   ]
  },
  {
   "cell_type": "code",
   "execution_count": 10,
   "metadata": {},
   "outputs": [
    {
     "name": "stdout",
     "output_type": "stream",
     "text": [
      "('A', '2021-01-01', 'curry', 15, 'N', None)\n",
      "('A', '2021-01-01', 'sushi', 10, 'N', None)\n",
      "('A', '2021-01-07', 'curry', 15, 'Y', 1)\n",
      "('A', '2021-01-10', 'ramen', 12, 'Y', 3)\n",
      "('A', '2021-01-11', 'ramen', 12, 'Y', 3)\n",
      "('A', '2021-01-11', 'ramen', 12, 'Y', 3)\n",
      "('B', '2021-01-01', 'curry', 15, 'N', None)\n",
      "('B', '2021-01-02', 'curry', 15, 'N', None)\n",
      "('B', '2021-01-04', 'sushi', 10, 'N', None)\n",
      "('B', '2021-01-16', 'ramen', 12, 'Y', 3)\n",
      "('B', '2021-02-01', 'ramen', 12, 'Y', 3)\n",
      "('B', '2021-01-11', 'sushi', 10, 'Y', 5)\n",
      "('C', '2021-01-01', 'ramen', 12, 'N', None)\n",
      "('C', '2021-01-01', 'ramen', 12, 'N', None)\n",
      "('C', '2021-01-07', 'ramen', 12, 'N', None)\n"
     ]
    }
   ],
   "source": [
    "query= \"\"\"\n",
    "select z.*\n",
    ",case when z.member='N' then null \n",
    "else rank() over(partition by z.customer_id order by z.price desc)\n",
    "end as ranking\n",
    "\n",
    "from \n",
    "(\n",
    "select s.customer_id,s.order_date,m.product_name,m.price,\n",
    "case\n",
    "    when me.join_date is null then 'N'\n",
    "    when s.order_date < me.join_date then \"N\"\n",
    "    else 'Y'\n",
    "end as member\n",
    "from sales s join menu m on\n",
    "    s.product_id= m.product_id Left outer join members me on\n",
    "    s.customer_id= me.customer_id\n",
    ") z\n",
    "order by z.customer_id,z.member\n",
    "\n",
    "\"\"\"\n",
    "cursor.execute(query)\n",
    "result = cursor.fetchall()\n",
    "for record in result:\n",
    "    print(record)"
   ]
  },
  {
   "cell_type": "code",
   "execution_count": 11,
   "metadata": {},
   "outputs": [],
   "source": [
    "# include it in finally in try-except statement.\n",
    "if connection:\n",
    "    connection.close()"
   ]
  }
 ],
 "metadata": {
  "kernelspec": {
   "display_name": "py310",
   "language": "python",
   "name": "python3"
  },
  "language_info": {
   "codemirror_mode": {
    "name": "ipython",
    "version": 3
   },
   "file_extension": ".py",
   "mimetype": "text/x-python",
   "name": "python",
   "nbconvert_exporter": "python",
   "pygments_lexer": "ipython3",
   "version": "3.10.13"
  }
 },
 "nbformat": 4,
 "nbformat_minor": 2
}
